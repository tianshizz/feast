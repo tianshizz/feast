{
 "metadata": {
  "language_info": {
   "codemirror_mode": {
    "name": "ipython",
    "version": 3
   },
   "file_extension": ".py",
   "mimetype": "text/x-python",
   "name": "python",
   "nbconvert_exporter": "python",
   "pygments_lexer": "ipython3",
   "version": "3.8.5-final"
  },
  "orig_nbformat": 2,
  "kernelspec": {
   "name": "python3",
   "display_name": "Python 3",
   "language": "python"
  }
 },
 "nbformat": 4,
 "nbformat_minor": 2,
 "cells": [
  {
   "cell_type": "code",
   "execution_count": 13,
   "metadata": {},
   "outputs": [
    {
     "output_type": "stream",
     "name": "stderr",
     "text": [
      "/home/tzhu/.local/lib/python3.8/site-packages/ipykernel/ipkernel.py:283: DeprecationWarning: `should_run_async` will not call `transform_cell` automatically in the future. Please pass the result to `transformed_cell` argument and any exception that happen during thetransform in `preprocessing_exc_tuple` in IPython 7.17 and above.\n",
      "  and should_run_async(code)\n",
      "{'sdk': {'version': '0.9.0rc2.dev33+g4376259d.d20210216'}, 'serving': 'not configured', 'core': {'url': 'localhost:6565', 'version': '0.10.0-SNAPSHOT'}}\n",
      "[]\n"
     ]
    }
   ],
   "source": [
    "import os\n",
    "from feast import Client, Feature, Entity, ValueType, FeatureTable\n",
    "from feast.feature import SQLFeature\n",
    "from feast.data_source import FileSource, KafkaSource\n",
    "from feast.data_format import ParquetFormat, AvroFormat\n",
    "\n",
    "client = Client()\n",
    "print(client.version())\n",
    "print(client.list_feature_tables())\n"
   ]
  },
  {
   "cell_type": "code",
   "execution_count": 14,
   "metadata": {},
   "outputs": [
    {
     "output_type": "stream",
     "name": "stderr",
     "text": [
      "/home/tzhu/works/feast/sdk/python/feast/client.py:644: DeprecationWarning: The method apply_feature_table() is being deprecated. Please use apply() instead. Feast 0.10 and onwards will not support apply_feature_table().\n  warnings.warn(\n"
     ]
    }
   ],
   "source": [
    "feature1 = SQLFeature(name='last_7_day_total_trips', query=\"select driver_id, count(*) over (partition by driver_id order by ts range between interval '7' day preceding and current row) from driver_stats\")\n",
    "feature2 = SQLFeature(name='last_7_day_avg_amount', query=\"select driver_id, avg(amount) over (partition by driver_id order by ts range between interval '7' day preceding and current row) from driver_stats\")\n",
    "\n",
    "driver_id = Entity(name=\"driver_id\", description=\"Driver identifier\", value_type=ValueType.INT64)\n",
    "client.apply(driver_id)\n",
    "\n",
    "feature_table = FeatureTable(\n",
    "    name = \"driver_statistics\",\n",
    "    entities = [\"driver_id\"],\n",
    "    features = [\n",
    "        feature1,\n",
    "        feature2,\n",
    "    ],\n",
    "    batch_source=FileSource(\n",
    "        event_timestamp_column=\"ts\",\n",
    "        file_format=ParquetFormat(),\n",
    "        file_url='/home/tzhu/data/test_data',\n",
    "    )\n",
    ")\n",
    "\n",
    "\n",
    "client.apply_feature_table(feature_table)\n",
    "\n",
    "# offline_features = client.getOffline(feature_table)\n",
    "# online_feature = clinet.getOnline(feature_table, entity_id='1234')"
   ]
  },
  {
   "cell_type": "code",
   "execution_count": 15,
   "metadata": {},
   "outputs": [
    {
     "output_type": "stream",
     "name": "stdout",
     "text": [
      "[FeatureTable <driver_statistics>]\n[<feast.entity.Entity object at 0x7ffa9d4711f0>]\n"
     ]
    }
   ],
   "source": [
    "print(client.list_feature_tables())\n",
    "print(client.list_entities())"
   ]
  },
  {
   "cell_type": "code",
   "execution_count": null,
   "metadata": {},
   "outputs": [],
   "source": []
  }
 ]
}